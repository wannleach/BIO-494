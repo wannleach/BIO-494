{
  "nbformat": 4,
  "nbformat_minor": 0,
  "metadata": {
    "colab": {
      "provenance": [],
      "authorship_tag": "ABX9TyMMW/OcbcKlYT0ZjNf7d4B1",
      "include_colab_link": true
    },
    "kernelspec": {
      "name": "python3",
      "display_name": "Python 3"
    },
    "language_info": {
      "name": "python"
    }
  },
  "cells": [
    {
      "cell_type": "markdown",
      "metadata": {
        "id": "view-in-github",
        "colab_type": "text"
      },
      "source": [
        "<a href=\"https://colab.research.google.com/github/wannleach/BIO-494/blob/main/ModuleG2.ipynb\" target=\"_parent\"><img src=\"https://colab.research.google.com/assets/colab-badge.svg\" alt=\"Open In Colab\"/></a>"
      ]
    },
    {
      "cell_type": "markdown",
      "source": [
        "**Chapter 21 (Part 2): Numerical Integration**"
      ],
      "metadata": {
        "id": "V-YDpD9HoVSf"
      }
    },
    {
      "cell_type": "markdown",
      "source": [
        "*21.4: Simpson's Rule*\n",
        "\n",
        "\n",
        "Simpson's Rule approximates integrals for a set of points by creating a unique polynomial that fits these points and then integrating said polynomial. On a basic level, this polynomial is created by making multiple Lagrange polynomials considering 3 points at a time: a center point and its two adjacent points. This polynomial is then summed over every two subintervals (as the Lagrange polynomials span over two subintervals each, the interval from left to center and center to right) and scaled by the step size (*h*) over the number of points to construct each section of the polynomial (3)."
      ],
      "metadata": {
        "id": "1UyHzL-XocQ2"
      }
    },
    {
      "cell_type": "code",
      "source": [
        "import numpy as np\n",
        "\n",
        "# Parameters\n",
        "a = 1                    # left boundary\n",
        "b = 4                    # right boundary\n",
        "n = 11                   # odd number of points\n",
        "h = (b - a) / (n - 1)    # even step size\n",
        "x = np.linspace(a, b, n) # x-values within boundary parameters\n",
        "f = 5*x**2 - 8*x + 5     # function f values\n",
        "exact_value = 60         # exact value of integral for comparison\n",
        "\n",
        "# Compute the integral using Simpson's Rule (Lagrange polynomials)\n",
        "I_simp = (h/3) * (f[0] + 2*sum(f[:n-2:2]) + 4*sum(f[1:n-1:2]) + f[n-1])\n",
        "err_simp = np.abs(exact_value - I_simp)\n",
        "\n",
        "# Print the Simpson's Integral and its absolute error\n",
        "print(I_simp)\n",
        "print(err_simp)"
      ],
      "metadata": {
        "colab": {
          "base_uri": "https://localhost:8080/"
        },
        "id": "oKklKaRKofai",
        "outputId": "08c5bc19-aa35-4b2f-aa4d-8f5cf3dbee63"
      },
      "execution_count": 3,
      "outputs": [
        {
          "output_type": "stream",
          "name": "stdout",
          "text": [
            "60.39999999999999\n",
            "0.3999999999999915\n"
          ]
        }
      ]
    },
    {
      "cell_type": "markdown",
      "source": [
        "*21.5: Computing Integrals in Python*"
      ],
      "metadata": {
        "id": "nIBZbmIkofmA"
      }
    },
    {
      "cell_type": "markdown",
      "source": [
        "Comparing the Trapezoid rule for estimating integrals with scipy's 'trapz' function, a similar algorithm."
      ],
      "metadata": {
        "id": "94L-5D05vM9M"
      }
    },
    {
      "cell_type": "code",
      "source": [
        "import numpy as np\n",
        "from scipy.integrate import trapz\n",
        "\n",
        "# Parameters\n",
        "a = 1                                                      # left boundary\n",
        "b = 4                                                      # right boundary\n",
        "n = 11                                                     # number of points\n",
        "h = (b - a) / (n - 1)                                      # step size\n",
        "x = np.linspace(a, b, n)                                   # x-values within boundary parameters\n",
        "f = 5*x**2 - 8*x + 5                                       # function f values\n",
        "exact_value = 60                                           # exact value of integral for comparison\n",
        "\n",
        "# 'trapz' function from scipy compared to Trapezoid Rule estimation\n",
        "I_trapz = trapz(f,x)                                       # scipy function\n",
        "I_trap = (h/2)*(f[0] + 2 * sum(f[1:n-1]) + f[n-1])         # Trapezoid rule\n",
        "I_trapz_error = np.abs(exact_value - I_trapz)              # scipy function absolute error\n",
        "I_trap_error = np.abs(exact_value - I_trap)                # Trapezoid rule absolute error\n",
        "\n",
        "# Print results\n",
        "print(\"Scipy function result: \" + str(I_trapz))            # scipy function result\n",
        "print(\"Trapezoid rule result: \" + str(I_trap))             # Trapezoid rule result\n",
        "print(\"Scipy function error: \" + str(I_trapz_error))       # scipy function absolute error\n",
        "print(\"Trapezoid rule error: \" + str(I_trap_error))        # Trapezoid rule absolute error"
      ],
      "metadata": {
        "colab": {
          "base_uri": "https://localhost:8080/"
        },
        "id": "y-IT4cc5oihv",
        "outputId": "6deeeadc-4adf-4253-8a28-5e396d707885"
      },
      "execution_count": 6,
      "outputs": [
        {
          "output_type": "stream",
          "name": "stdout",
          "text": [
            "Scipy function result: 60.225\n",
            "Trapezoid rule result: 60.224999999999994\n",
            "Scipy function error: 0.22500000000000142\n",
            "Trapezoid rule error: 0.22499999999999432\n"
          ]
        }
      ]
    },
    {
      "cell_type": "markdown",
      "source": [
        "Comparing scipy's 'cumtrapz' function, an algorithm that approximates the cumulative integral of a function over a specified interval, to the exact algebraic integral."
      ],
      "metadata": {
        "id": "W-W5_zFlvLn-"
      }
    },
    {
      "cell_type": "code",
      "source": [
        "from scipy.integrate import cumtrapz\n",
        "import matplotlib.pyplot as plt\n",
        "\n",
        "# Summarized Parameters\n",
        "x = np.arange(1, 4, 0.01)                 # x-values over bounded interval [1,4] w/ step-size 0.1\n",
        "F_exact = (5 / 3)*x**3 - 4*x**2 + 5*x     # exact integral                  \n",
        "F_approx = cumtrapz(5*x**2 - 8*x + 5, x)  # approximate integral using scipy's 'cumtrapz' function (cumulative integral)\n",
        "\n",
        "# Plot results\n",
        "plt.figure();\n",
        "plt.plot(x, F_exact);                     # exact integral\n",
        "plt.plot(x[1::], F_approx);               # estimated integral \n",
        "plt.grid();\n",
        "plt.tight_layout();\n",
        "plt.title('$F(x) = \\int_1^{4} 5x^2 - 8x + 5 dx$');\n",
        "plt.xlabel('x');\n",
        "plt.ylabel('f(x)');\n",
        "plt.legend(['Exact', 'Approx']);\n",
        "plt.show()"
      ],
      "metadata": {
        "colab": {
          "base_uri": "https://localhost:8080/",
          "height": 340
        },
        "id": "FLz4d1x5tggJ",
        "outputId": "7d6bf38d-d298-4f9e-f32f-959cbe2fc1f6"
      },
      "execution_count": 8,
      "outputs": [
        {
          "output_type": "display_data",
          "data": {
            "text/plain": [
              "<Figure size 432x288 with 1 Axes>"
            ],
            "image/png": "[encoded data removed]"
          },
          "metadata": {
            "needs_background": "light"
          }
        }
      ]
    },
    {
      "cell_type": "code",
      "source": [
        "from scipy.integrate import quad \n",
        "\n",
        "# parameters\n",
        "x = np.arange(1, 4, 0.01)                    # x-values over interval [1, 4] w/ step size 0.1\n",
        "exact_value = 60                             # exact value of integral\n",
        "\n",
        "# function definition\n",
        "def poly_func(x):\n",
        "  return (5*x**2 - 8*x + 5)\n",
        "\n",
        "# Integral Computation\n",
        "I_quad, est_err_quad = quad(poly_func, 1, 4) # approximate value of integral using 'quad' from scipy, estimated error\n",
        "err_quad = exact_value - I_quad              # absolute error\n",
        "\n",
        "# Print results and absolute error\n",
        "print(\"Scipy Quad Approximation: \" + str(I_quad))\n",
        "print(\"Estimated Error from Quad, Absolute Error: \" + str(est_err_quad), str(err_quad))"
      ],
      "metadata": {
        "colab": {
          "base_uri": "https://localhost:8080/"
        },
        "id": "AtedMRmHvt_3",
        "outputId": "98c2be59-fbcc-4300-c1cb-c70eae4c9916"
      },
      "execution_count": 13,
      "outputs": [
        {
          "output_type": "stream",
          "name": "stdout",
          "text": [
            "Scipy Quad Approximation: 60.0\n",
            "Estimated Error from Quad, Absolute Error: 6.661338147750939e-13 0.0\n"
          ]
        }
      ]
    }
  ]
}